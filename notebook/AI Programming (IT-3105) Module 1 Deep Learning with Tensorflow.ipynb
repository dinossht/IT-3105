{
 "cells": [
  {
   "cell_type": "code",
   "execution_count": null,
   "metadata": {},
   "outputs": [],
   "source": [
    "# The scenario-defining parameters are:\n",
    "# 1. Number of layers X size of each layer.\n",
    "# 2. Hidden Activation Function \n",
    "# 3. Output Activation Function \n",
    "# 4. Cost Function \n",
    "# 5. Learning Rate\n",
    "# 6. Initial Weight Range -\n",
    "# 7. Optimizer \n",
    "# 8. Data Source \n",
    "# 9. Case Fraction \n",
    "# 10. Validation Fraction \n",
    "# 11. Validation Interval\n",
    "# 12. Test Fraction \n",
    "# 13. Minibatch Size \n",
    "# 14. Map Batch Size \n",
    "# 15. Steps\n",
    "# 16. Map Layers\n",
    "# 17. Map Dendrograms \n",
    "# 18. Display Weights \n",
    "# 19. Display Biases "
   ]
  }
 ],
 "metadata": {
  "kernelspec": {
   "display_name": "Python 3",
   "language": "python",
   "name": "python3"
  },
  "language_info": {
   "codemirror_mode": {
    "name": "ipython",
    "version": 3
   },
   "file_extension": ".py",
   "mimetype": "text/x-python",
   "name": "python",
   "nbconvert_exporter": "python",
   "pygments_lexer": "ipython3",
   "version": "3.7.0"
  }
 },
 "nbformat": 4,
 "nbformat_minor": 2
}
